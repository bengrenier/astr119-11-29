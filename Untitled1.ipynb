{
 "cells": [
  {
   "cell_type": "code",
   "execution_count": 2,
   "metadata": {},
   "outputs": [],
   "source": [
    "%matplotlib inline\n",
    "import matplotlib.pyplot as plt\n",
    "import numpy as np"
   ]
  },
  {
   "cell_type": "code",
   "execution_count": null,
   "metadata": {},
   "outputs": [],
   "source": [
    "def f(x):\n",
    "    return np.sin(x)"
   ]
  },
  {
   "cell_type": "code",
   "execution_count": 6,
   "metadata": {},
   "outputs": [
    {
     "ename": "IndentationError",
     "evalue": "expected an indented block (<ipython-input-6-65231d0b8df5>, line 24)",
     "output_type": "error",
     "traceback": [
      "\u001b[0;36m  File \u001b[0;32m\"<ipython-input-6-65231d0b8df5>\"\u001b[0;36m, line \u001b[0;32m24\u001b[0m\n\u001b[0;31m    ctr += 1 # area over x-axis is positive\u001b[0m\n\u001b[0m      ^\u001b[0m\n\u001b[0;31mIndentationError\u001b[0m\u001b[0;31m:\u001b[0m expected an indented block\n"
     ]
    }
   ],
   "source": [
    "# define any xmin-xmax interval here! (xmin < xmax)\n",
    "xmin = 0.0\n",
    "xmax = 2.0 * np.pi\n",
    "\n",
    "# find ymin-ymax\n",
    "istep = 1000000 # bigger the better but slower!\n",
    "ymin = f(xmin)\n",
    "ymax = ymin\n",
    "for i in range(istep):\n",
    "    x = xmin + (xmax - xmin) * float(i) / istep\n",
    "    y = f(x)\n",
    "    if y < ymin: ymin = y\n",
    "    if y > ymax: ymax = y\n",
    "\n",
    "# Monte Carlo\n",
    "rectArea = (xmax - xmin) * (ymax - ymin)\n",
    "iPoints = 1000000 # bigger the better but slower!\n",
    "ctr = 0\n",
    "for i in range(iPoints):\n",
    "    x = xmin + (xmax - xmin) * np.random()\n",
    "    y = ymin + (ymax - ymin) * np.random()\n",
    "    if np.fabs(y) <= np.fabs(f(x)):\n",
    "    if f(x) > 0 and y > 0 and y <= f(x):\n",
    "        ctr += 1 # area over x-axis is positive\n",
    "    if f(x) < 0 and y < 0 and y >= f(x):\n",
    "        ctr -= 1 # area under x-axis is negative\n",
    "\n",
    "fnArea = rectArea * float(ctr) / iPoints\n",
    "print \"Numerical integration = \" + str(fnArea)"
   ]
  },
  {
   "cell_type": "code",
   "execution_count": null,
   "metadata": {},
   "outputs": [],
   "source": []
  }
 ],
 "metadata": {
  "kernelspec": {
   "display_name": "Python 3",
   "language": "python",
   "name": "python3"
  },
  "language_info": {
   "codemirror_mode": {
    "name": "ipython",
    "version": 3
   },
   "file_extension": ".py",
   "mimetype": "text/x-python",
   "name": "python",
   "nbconvert_exporter": "python",
   "pygments_lexer": "ipython3",
   "version": "3.6.5"
  }
 },
 "nbformat": 4,
 "nbformat_minor": 2
}
